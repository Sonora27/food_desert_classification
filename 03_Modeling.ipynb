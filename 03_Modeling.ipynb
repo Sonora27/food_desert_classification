{
 "cells": [
  {
   "cell_type": "code",
   "execution_count": 1,
   "metadata": {
    "scrolled": false
   },
   "outputs": [
    {
     "name": "stderr",
     "output_type": "stream",
     "text": [
      "\n",
      "Bad key \"text.kerning_factor\" on line 4 in\n",
      "/Users/joseramirez/anaconda3/lib/python3.7/site-packages/matplotlib/mpl-data/stylelib/_classic_test_patch.mplstyle.\n",
      "You probably need to get an updated matplotlibrc file from\n",
      "https://github.com/matplotlib/matplotlib/blob/v3.1.2/matplotlibrc.template\n",
      "or from the matplotlib source distribution\n"
     ]
    }
   ],
   "source": [
    "import pandas as pd\n",
    "import numpy as np\n",
    "import matplotlib.pyplot as plt\n",
    "%matplotlib inline\n",
    "import seaborn as sns\n",
    "import scipy.stats as stats\n",
    "from sklearn.model_selection import GridSearchCV\n",
    "from sklearn.model_selection import train_test_split\n",
    "from sklearn.metrics import accuracy_score, f1_score, recall_score\n",
    "from sklearn import metrics\n",
    "from sklearn.tree import DecisionTreeClassifier\n",
    "from sklearn.ensemble import RandomForestClassifier, VotingClassifier\n",
    "from collections import Counter\n",
    "from imblearn.under_sampling import TomekLinks\n",
    "import pickle\n",
    "\n",
    "pd.set_option('display.max_rows', 500)\n",
    "pd.set_option('display.max_columns', 500)"
   ]
  },
  {
   "cell_type": "code",
   "execution_count": 2,
   "metadata": {},
   "outputs": [],
   "source": [
    "from sklearn.metrics import plot_confusion_matrix\n",
    "from sklearn.metrics import confusion_matrix"
   ]
  },
  {
   "cell_type": "code",
   "execution_count": 3,
   "metadata": {},
   "outputs": [],
   "source": [
    "df = pd.read_csv('df.csv', index_col = 0)"
   ]
  },
  {
   "cell_type": "code",
   "execution_count": 4,
   "metadata": {},
   "outputs": [],
   "source": [
    "X = df.drop(['LA1and10', 'CensusTract', 'State', 'County'], axis = 1)\n",
    "y = df.LA1and10"
   ]
  },
  {
   "cell_type": "code",
   "execution_count": 5,
   "metadata": {
    "scrolled": false
   },
   "outputs": [],
   "source": [
    "##Making dataframe numeric\n",
    "\n",
    "X = X.apply(pd.to_numeric)"
   ]
  },
  {
   "cell_type": "code",
   "execution_count": 6,
   "metadata": {},
   "outputs": [],
   "source": [
    "## Filling nulls with the median\n",
    "\n",
    "X = X.fillna(X.median())"
   ]
  },
  {
   "cell_type": "code",
   "execution_count": 7,
   "metadata": {},
   "outputs": [],
   "source": [
    "##Splitting the data with train_test_split\n",
    "\n",
    "X_traintl, X_testtl, y_traintl, y_testtl = train_test_split(X, y, random_state=1)"
   ]
  },
  {
   "cell_type": "code",
   "execution_count": 8,
   "metadata": {},
   "outputs": [
    {
     "name": "stdout",
     "output_type": "stream",
     "text": [
      "Resampled dataset shape Counter({0: 29538, 1: 20659})\n"
     ]
    }
   ],
   "source": [
    "## I am going to use TomekLinks to downsample because I have a significant class imbalance \n",
    "## in my food desert variable.\n",
    "\n",
    "tl = TomekLinks()\n",
    "X_res, y_res = tl.fit_resample(X_traintl, y_traintl)\n",
    "print('Resampled dataset shape %s' % Counter(y_res))"
   ]
  },
  {
   "cell_type": "code",
   "execution_count": 9,
   "metadata": {},
   "outputs": [],
   "source": [
    "# DummyClassifier\n",
    "\n",
    "from sklearn.dummy import DummyClassifier"
   ]
  },
  {
   "cell_type": "code",
   "execution_count": 10,
   "metadata": {},
   "outputs": [],
   "source": [
    "dummy_clf = DummyClassifier(random_state = 1, strategy = 'stratified')"
   ]
  },
  {
   "cell_type": "code",
   "execution_count": 11,
   "metadata": {
    "scrolled": true
   },
   "outputs": [
    {
     "data": {
      "text/plain": [
       "DummyClassifier(random_state=1, strategy='stratified')"
      ]
     },
     "execution_count": 11,
     "metadata": {},
     "output_type": "execute_result"
    }
   ],
   "source": [
    "dummy_clf.fit(X_res, y_res)"
   ]
  },
  {
   "cell_type": "code",
   "execution_count": 12,
   "metadata": {},
   "outputs": [],
   "source": [
    "y_predsdummy = dummy_clf.predict(X_testtl)"
   ]
  },
  {
   "cell_type": "code",
   "execution_count": 13,
   "metadata": {},
   "outputs": [
    {
     "data": {
      "text/plain": [
       "0.4035393297568452"
      ]
     },
     "execution_count": 13,
     "metadata": {},
     "output_type": "execute_result"
    }
   ],
   "source": [
    "f1_score(y_testtl, y_predsdummy)"
   ]
  },
  {
   "cell_type": "code",
   "execution_count": 14,
   "metadata": {},
   "outputs": [
    {
     "data": {
      "text/plain": [
       "0.4217271006261832"
      ]
     },
     "execution_count": 14,
     "metadata": {},
     "output_type": "execute_result"
    }
   ],
   "source": [
    "recall_score(y_testtl,y_predsdummy)"
   ]
  },
  {
   "cell_type": "markdown",
   "metadata": {},
   "source": [
    "## My priority for this project is having a great recall score. This is because I want to reduce False Negatives. In this case, a False Negative would be saying a Census Tract is not a food desert when it in fact is. As it pertains to my social case, I think it would be most detrimental for my model to have a false negative because it would mean the government would miss areas likely to become food deserts.\n",
    "\n",
    "## In addition, I am using F1 as my secondary metric because a balance between false positives and false negatives is important. Although it's not my priority, I also do not want my model to cause the government to waste precious resources on areas that are not food deserts."
   ]
  },
  {
   "cell_type": "code",
   "execution_count": 15,
   "metadata": {},
   "outputs": [],
   "source": [
    "param_dict={'max_depth': range(9,12,1),'criterion': ['entropy'], 'min_samples_leaf' : range(1,5,1), 'max_leaf_nodes': range(30,35,1), 'class_weight': ['balanced']}\n",
    "\n",
    "\n"
   ]
  },
  {
   "cell_type": "code",
   "execution_count": 16,
   "metadata": {},
   "outputs": [],
   "source": [
    "gs = GridSearchCV(DecisionTreeClassifier(random_state=1),\n",
    "                  param_grid= param_dict,\n",
    "                  scoring='f1', cv=3,verbose = 1, n_jobs=-1)"
   ]
  },
  {
   "cell_type": "code",
   "execution_count": 17,
   "metadata": {
    "scrolled": false
   },
   "outputs": [
    {
     "name": "stdout",
     "output_type": "stream",
     "text": [
      "Fitting 3 folds for each of 60 candidates, totalling 180 fits\n"
     ]
    },
    {
     "name": "stderr",
     "output_type": "stream",
     "text": [
      "[Parallel(n_jobs=-1)]: Using backend LokyBackend with 12 concurrent workers.\n",
      "[Parallel(n_jobs=-1)]: Done  26 tasks      | elapsed:    4.8s\n",
      "[Parallel(n_jobs=-1)]: Done 180 out of 180 | elapsed:   19.0s finished\n"
     ]
    },
    {
     "data": {
      "text/plain": [
       "GridSearchCV(cv=3, estimator=DecisionTreeClassifier(random_state=1), n_jobs=-1,\n",
       "             param_grid={'class_weight': ['balanced'], 'criterion': ['entropy'],\n",
       "                         'max_depth': range(9, 12),\n",
       "                         'max_leaf_nodes': range(30, 35),\n",
       "                         'min_samples_leaf': range(1, 5)},\n",
       "             scoring='f1', verbose=1)"
      ]
     },
     "execution_count": 17,
     "metadata": {},
     "output_type": "execute_result"
    }
   ],
   "source": [
    "gs.fit(X_res, y_res)"
   ]
  },
  {
   "cell_type": "code",
   "execution_count": 18,
   "metadata": {},
   "outputs": [
    {
     "data": {
      "text/plain": [
       "DecisionTreeClassifier(class_weight='balanced', criterion='entropy',\n",
       "                       max_depth=9, max_leaf_nodes=33, random_state=1)"
      ]
     },
     "execution_count": 18,
     "metadata": {},
     "output_type": "execute_result"
    }
   ],
   "source": [
    "gs.best_estimator_"
   ]
  },
  {
   "cell_type": "code",
   "execution_count": 19,
   "metadata": {},
   "outputs": [
    {
     "data": {
      "text/plain": [
       "0.70057442551974"
      ]
     },
     "execution_count": 19,
     "metadata": {},
     "output_type": "execute_result"
    }
   ],
   "source": [
    "gs.best_score_"
   ]
  },
  {
   "cell_type": "code",
   "execution_count": 20,
   "metadata": {},
   "outputs": [],
   "source": [
    "y_predsgs=gs.best_estimator_.predict(X_testtl)"
   ]
  },
  {
   "cell_type": "code",
   "execution_count": 21,
   "metadata": {},
   "outputs": [
    {
     "data": {
      "text/plain": [
       "0.6764110929853182"
      ]
     },
     "execution_count": 21,
     "metadata": {},
     "output_type": "execute_result"
    }
   ],
   "source": [
    "f1_score(y_testtl,y_predsgs)"
   ]
  },
  {
   "cell_type": "code",
   "execution_count": 22,
   "metadata": {},
   "outputs": [
    {
     "data": {
      "text/plain": [
       "0.7547691859618465"
      ]
     },
     "execution_count": 22,
     "metadata": {},
     "output_type": "execute_result"
    }
   ],
   "source": [
    "recall_score(y_testtl,y_predsgs)"
   ]
  },
  {
   "cell_type": "markdown",
   "metadata": {},
   "source": [
    "## Promising Recall and acceptable F1 Score for my first model"
   ]
  },
  {
   "cell_type": "code",
   "execution_count": 23,
   "metadata": {},
   "outputs": [],
   "source": [
    "cm = confusion_matrix(y_testtl,y_predsgs)\n",
    "classes = ['Not Food Desert', 'Food Desert']"
   ]
  },
  {
   "cell_type": "code",
   "execution_count": 24,
   "metadata": {},
   "outputs": [
    {
     "data": {
      "text/plain": [
       "<sklearn.metrics._plot.confusion_matrix.ConfusionMatrixDisplay at 0x7fee59c465d0>"
      ]
     },
     "execution_count": 24,
     "metadata": {},
     "output_type": "execute_result"
    },
    {
     "data": {
      "image/png": "[encoded data removed]",
      "text/plain": [
       "<Figure size 720x720 with 2 Axes>"
      ]
     },
     "metadata": {
      "needs_background": "light"
     },
     "output_type": "display_data"
    }
   ],
   "source": [
    "\n",
    "\n",
    "fig, ax = plt.subplots(figsize=(10, 10))\n",
    "\n",
    "plt.rcParams.update({'font.size': 20})\n",
    "\n",
    "plot_confusion_matrix(gs, X_testtl, y_testtl, cmap=plt.cm.Blues, display_labels = classes, ax=ax)"
   ]
  },
  {
   "cell_type": "code",
   "execution_count": 25,
   "metadata": {
    "scrolled": true
   },
   "outputs": [
    {
     "name": "stdout",
     "output_type": "stream",
     "text": [
      "Fitting 3 folds for each of 4 candidates, totalling 12 fits\n"
     ]
    },
    {
     "name": "stderr",
     "output_type": "stream",
     "text": [
      "[Parallel(n_jobs=-2)]: Using backend LokyBackend with 11 concurrent workers.\n",
      "[Parallel(n_jobs=-2)]: Done   4 out of  12 | elapsed:  4.0min remaining:  8.1min\n",
      "[Parallel(n_jobs=-2)]: Done  12 out of  12 | elapsed:  6.5min finished\n"
     ]
    },
    {
     "data": {
      "text/plain": [
       "GridSearchCV(cv=3,\n",
       "             estimator=RandomForestClassifier(bootstrap=False,\n",
       "                                              class_weight='balanced',\n",
       "                                              random_state=1),\n",
       "             n_jobs=-2,\n",
       "             param_grid={'criterion': ['entropy'], 'max_depth': range(19, 21),\n",
       "                         'max_features': range(9, 11),\n",
       "                         'max_leaf_nodes': range(205, 206),\n",
       "                         'min_samples_leaf': [10],\n",
       "                         'min_samples_split': range(3, 4),\n",
       "                         'n_estimators': [700]},\n",
       "             scoring='f1', verbose=1)"
      ]
     },
     "execution_count": 25,
     "metadata": {},
     "output_type": "execute_result"
    }
   ],
   "source": [
    "rf = RandomForestClassifier(class_weight = 'balanced',bootstrap = False, random_state=1)\n",
    "\n",
    "param_dictrf={'n_estimators': [700], 'max_depth': range(19,21,1), 'criterion': ['entropy'],'max_leaf_nodes': range(205,206,1), 'min_samples_split': range(3,4,1), 'min_samples_leaf': [10], 'max_features': range(9,11,1)}\n",
    "gs_forest=GridSearchCV(rf,param_dictrf,scoring='f1',cv=3,verbose=1, n_jobs =-2)\n",
    "\n",
    "#Fitting\n",
    "gs_forest.fit(X_res,y_res)"
   ]
  },
  {
   "cell_type": "code",
   "execution_count": 26,
   "metadata": {},
   "outputs": [
    {
     "data": {
      "text/plain": [
       "RandomForestClassifier(bootstrap=False, class_weight='balanced',\n",
       "                       criterion='entropy', max_depth=19, max_features=10,\n",
       "                       max_leaf_nodes=205, min_samples_leaf=10,\n",
       "                       min_samples_split=3, n_estimators=700, random_state=1)"
      ]
     },
     "execution_count": 26,
     "metadata": {},
     "output_type": "execute_result"
    }
   ],
   "source": [
    "gs_forest.best_estimator_"
   ]
  },
  {
   "cell_type": "code",
   "execution_count": 27,
   "metadata": {},
   "outputs": [
    {
     "data": {
      "text/plain": [
       "0.7318422664173475"
      ]
     },
     "execution_count": 27,
     "metadata": {},
     "output_type": "execute_result"
    }
   ],
   "source": [
    "gs_forest.best_score_"
   ]
  },
  {
   "cell_type": "code",
   "execution_count": 28,
   "metadata": {},
   "outputs": [],
   "source": [
    "y_predsgs_forest=gs_forest.best_estimator_.predict(X_testtl)"
   ]
  },
  {
   "cell_type": "code",
   "execution_count": 29,
   "metadata": {},
   "outputs": [
    {
     "data": {
      "text/plain": [
       "0.7034207904350714"
      ]
     },
     "execution_count": 29,
     "metadata": {},
     "output_type": "execute_result"
    }
   ],
   "source": [
    "f1_score(y_testtl,y_predsgs_forest)"
   ]
  },
  {
   "cell_type": "code",
   "execution_count": 30,
   "metadata": {},
   "outputs": [
    {
     "data": {
      "text/plain": [
       "0.7710790738313674"
      ]
     },
     "execution_count": 30,
     "metadata": {},
     "output_type": "execute_result"
    }
   ],
   "source": [
    "recall_score(y_testtl, y_predsgs_forest)"
   ]
  },
  {
   "cell_type": "markdown",
   "metadata": {},
   "source": [
    "## Even better F1 Score and even better recall score. This model seems very promising"
   ]
  },
  {
   "cell_type": "code",
   "execution_count": 31,
   "metadata": {},
   "outputs": [],
   "source": [
    "cm = confusion_matrix(y_testtl,y_predsgs_forest)\n",
    "classes = ['Not Food Desert', 'Food Desert']"
   ]
  },
  {
   "cell_type": "code",
   "execution_count": 32,
   "metadata": {},
   "outputs": [
    {
     "data": {
      "text/plain": [
       "<sklearn.metrics._plot.confusion_matrix.ConfusionMatrixDisplay at 0x7feea9432d10>"
      ]
     },
     "execution_count": 32,
     "metadata": {},
     "output_type": "execute_result"
    },
    {
     "data": {
      "image/png": "[encoded data removed]",
      "text/plain": [
       "<Figure size 720x720 with 2 Axes>"
      ]
     },
     "metadata": {
      "needs_background": "light"
     },
     "output_type": "display_data"
    }
   ],
   "source": [
    "fig, ax = plt.subplots(figsize=(10, 10))\n",
    "\n",
    "plt.rcParams.update({'font.size': 20})\n",
    "\n",
    "plot_confusion_matrix(gs_forest, X_testtl, y_testtl, cmap=plt.cm.Blues, display_labels = classes, ax=ax)"
   ]
  },
  {
   "cell_type": "code",
   "execution_count": 33,
   "metadata": {},
   "outputs": [],
   "source": [
    "import xgboost as xgb"
   ]
  },
  {
   "cell_type": "code",
   "execution_count": 34,
   "metadata": {},
   "outputs": [],
   "source": [
    "xgb_clf=xgb.XGBClassifier(class_weight = 'balanced',random_state=1)\n",
    "\n",
    "## XGBOOST Parameter List\n",
    "\n",
    "params={'n_estimators': [400],\n",
    "        'min_child_weight': [12],\n",
    "        'max_depth':[5],\n",
    "        'gamma': [3],\n",
    "        'subsample': [0.8],\n",
    "        'colsample_bytree': [0.7],\n",
    "        'max_delta_step':[1],\n",
    "        'booster':['gbtree','gblinear']}"
   ]
  },
  {
   "cell_type": "code",
   "execution_count": 35,
   "metadata": {
    "scrolled": true
   },
   "outputs": [
    {
     "name": "stdout",
     "output_type": "stream",
     "text": [
      "Fitting 3 folds for each of 2 candidates, totalling 6 fits\n"
     ]
    },
    {
     "name": "stderr",
     "output_type": "stream",
     "text": [
      "[Parallel(n_jobs=-3)]: Using backend LokyBackend with 10 concurrent workers.\n",
      "[Parallel(n_jobs=-3)]: Done   6 out of   6 | elapsed:   42.7s finished\n"
     ]
    },
    {
     "data": {
      "text/plain": [
       "GridSearchCV(cv=3,\n",
       "             estimator=XGBClassifier(class_weight='balanced', random_state=1),\n",
       "             n_jobs=-3,\n",
       "             param_grid={'booster': ['gbtree', 'gblinear'],\n",
       "                         'colsample_bytree': [0.7], 'gamma': [3],\n",
       "                         'max_delta_step': [1], 'max_depth': [5],\n",
       "                         'min_child_weight': [12], 'n_estimators': [400],\n",
       "                         'subsample': [0.8]},\n",
       "             scoring='f1', verbose=1)"
      ]
     },
     "execution_count": 35,
     "metadata": {},
     "output_type": "execute_result"
    }
   ],
   "source": [
    "xgb_grid=GridSearchCV(xgb_clf,params,scoring ='f1', cv=3,verbose=1,n_jobs=-3)\n",
    "##Fitting\n",
    "xgb_grid.fit(X_res,y_res)"
   ]
  },
  {
   "cell_type": "code",
   "execution_count": 36,
   "metadata": {},
   "outputs": [
    {
     "data": {
      "text/plain": [
       "XGBClassifier(class_weight='balanced', colsample_bytree=0.7, gamma=3,\n",
       "              max_delta_step=1, max_depth=5, min_child_weight=12,\n",
       "              n_estimators=400, random_state=1, subsample=0.8)"
      ]
     },
     "execution_count": 36,
     "metadata": {},
     "output_type": "execute_result"
    }
   ],
   "source": [
    "xgb_grid.best_estimator_"
   ]
  },
  {
   "cell_type": "code",
   "execution_count": 37,
   "metadata": {},
   "outputs": [
    {
     "data": {
      "text/plain": [
       "0.7375145475903403"
      ]
     },
     "execution_count": 37,
     "metadata": {},
     "output_type": "execute_result"
    }
   ],
   "source": [
    "xgb_grid.best_score_"
   ]
  },
  {
   "cell_type": "code",
   "execution_count": 38,
   "metadata": {},
   "outputs": [],
   "source": [
    "y_predsxgb_grid=xgb_grid.best_estimator_.predict(X_testtl)"
   ]
  },
  {
   "cell_type": "code",
   "execution_count": 39,
   "metadata": {},
   "outputs": [
    {
     "data": {
      "text/plain": [
       "0.7125429176711228"
      ]
     },
     "execution_count": 39,
     "metadata": {},
     "output_type": "execute_result"
    }
   ],
   "source": [
    "f1_score(y_testtl,y_predsxgb_grid)"
   ]
  },
  {
   "cell_type": "code",
   "execution_count": 40,
   "metadata": {},
   "outputs": [
    {
     "data": {
      "text/plain": [
       "0.710208242318334"
      ]
     },
     "execution_count": 40,
     "metadata": {},
     "output_type": "execute_result"
    }
   ],
   "source": [
    "recall_score(y_testtl, y_predsxgb_grid)"
   ]
  },
  {
   "cell_type": "markdown",
   "metadata": {},
   "source": [
    "## My most balanced model between F1 and recall, however the recall is a little low"
   ]
  },
  {
   "cell_type": "code",
   "execution_count": 41,
   "metadata": {
    "scrolled": true
   },
   "outputs": [
    {
     "data": {
      "text/plain": [
       "<sklearn.metrics._plot.confusion_matrix.ConfusionMatrixDisplay at 0x7fee98b83e10>"
      ]
     },
     "execution_count": 41,
     "metadata": {},
     "output_type": "execute_result"
    },
    {
     "data": {
      "image/png": "[encoded data removed]",
      "text/plain": [
       "<Figure size 720x720 with 2 Axes>"
      ]
     },
     "metadata": {
      "needs_background": "light"
     },
     "output_type": "display_data"
    }
   ],
   "source": [
    "cm = confusion_matrix(y_testtl,y_predsxgb_grid)\n",
    "classes = ['Not Food Desert', 'Food Desert']\n",
    "fig, ax = plt.subplots(figsize=(10, 10))\n",
    "\n",
    "plt.rcParams.update({'font.size': 20})\n",
    "\n",
    "plot_confusion_matrix(xgb_grid, X_testtl, y_testtl, cmap=plt.cm.Blues, display_labels = classes, ax=ax)\n"
   ]
  },
  {
   "cell_type": "markdown",
   "metadata": {},
   "source": [
    "## Now let's use new sampling techniques I discovered to see if my model improves"
   ]
  },
  {
   "cell_type": "code",
   "execution_count": 42,
   "metadata": {},
   "outputs": [],
   "source": [
    "from imblearn.combine import SMOTETomek, SMOTEENN\n"
   ]
  },
  {
   "cell_type": "code",
   "execution_count": 43,
   "metadata": {},
   "outputs": [
    {
     "name": "stdout",
     "output_type": "stream",
     "text": [
      "Resampled dataset shape Counter({0: 32112, 1: 32112})\n"
     ]
    }
   ],
   "source": [
    "smtl = SMOTETomek()\n",
    "X_ressmtl, y_ressmtl = smtl.fit_resample(X_traintl, y_traintl)\n",
    "print('Resampled dataset shape %s' % Counter(y_ressmtl))"
   ]
  },
  {
   "cell_type": "markdown",
   "metadata": {},
   "source": [
    "## SMOTETomek uses Smote to oversample the minority class and then TomekLinks to undersample the majority class"
   ]
  },
  {
   "cell_type": "code",
   "execution_count": 44,
   "metadata": {},
   "outputs": [],
   "source": [
    "paramssmtl={'min_child_weight': [11],\n",
    "        'max_depth':[17],\n",
    "        'gamma': [1],\n",
    "        'subsample': [0.8],\n",
    "        'colsample_bytree': [0.9],\n",
    "        'max_delta_step':[1],\n",
    "        'booster':['gbtree','gblinear']}"
   ]
  },
  {
   "cell_type": "code",
   "execution_count": 45,
   "metadata": {},
   "outputs": [
    {
     "name": "stdout",
     "output_type": "stream",
     "text": [
      "Fitting 3 folds for each of 2 candidates, totalling 6 fits\n"
     ]
    },
    {
     "name": "stderr",
     "output_type": "stream",
     "text": [
      "[Parallel(n_jobs=-3)]: Using backend LokyBackend with 10 concurrent workers.\n",
      "[Parallel(n_jobs=-3)]: Done   6 out of   6 | elapsed:   57.3s finished\n"
     ]
    },
    {
     "data": {
      "text/plain": [
       "GridSearchCV(cv=3,\n",
       "             estimator=XGBClassifier(class_weight='balanced', random_state=1),\n",
       "             n_jobs=-3,\n",
       "             param_grid={'booster': ['gbtree', 'gblinear'],\n",
       "                         'colsample_bytree': [0.9], 'gamma': [1],\n",
       "                         'max_delta_step': [1], 'max_depth': [17],\n",
       "                         'min_child_weight': [11], 'subsample': [0.8]},\n",
       "             scoring='f1', verbose=1)"
      ]
     },
     "execution_count": 45,
     "metadata": {},
     "output_type": "execute_result"
    }
   ],
   "source": [
    "xgb_gridsmtl=GridSearchCV(xgb_clf,paramssmtl,scoring ='f1', cv=3,verbose=1,n_jobs=-3)\n",
    "##Fitting\n",
    "xgb_gridsmtl.fit(X_ressmtl,y_ressmtl)"
   ]
  },
  {
   "cell_type": "code",
   "execution_count": 46,
   "metadata": {},
   "outputs": [
    {
     "data": {
      "text/plain": [
       "XGBClassifier(class_weight='balanced', colsample_bytree=0.9, gamma=1,\n",
       "              max_delta_step=1, max_depth=17, min_child_weight=11,\n",
       "              random_state=1, subsample=0.8)"
      ]
     },
     "execution_count": 46,
     "metadata": {},
     "output_type": "execute_result"
    }
   ],
   "source": [
    "xgb_gridsmtl.best_estimator_"
   ]
  },
  {
   "cell_type": "code",
   "execution_count": 47,
   "metadata": {},
   "outputs": [
    {
     "data": {
      "text/plain": [
       "0.7799305822147282"
      ]
     },
     "execution_count": 47,
     "metadata": {},
     "output_type": "execute_result"
    }
   ],
   "source": [
    "xgb_gridsmtl.best_score_"
   ]
  },
  {
   "cell_type": "code",
   "execution_count": 48,
   "metadata": {},
   "outputs": [],
   "source": [
    "y_predsxgbsmtl_grid=xgb_gridsmtl.best_estimator_.predict(X_testtl)"
   ]
  },
  {
   "cell_type": "code",
   "execution_count": 49,
   "metadata": {},
   "outputs": [
    {
     "data": {
      "text/plain": [
       "0.7035233457462045"
      ]
     },
     "execution_count": 49,
     "metadata": {},
     "output_type": "execute_result"
    }
   ],
   "source": [
    "f1_score(y_testtl,y_predsxgbsmtl_grid)"
   ]
  },
  {
   "cell_type": "code",
   "execution_count": 50,
   "metadata": {},
   "outputs": [
    {
     "data": {
      "text/plain": [
       "0.7153050822775593"
      ]
     },
     "execution_count": 50,
     "metadata": {},
     "output_type": "execute_result"
    }
   ],
   "source": [
    "recall_score(y_testtl, y_predsxgbsmtl_grid)"
   ]
  },
  {
   "cell_type": "markdown",
   "metadata": {},
   "source": [
    "## Balanced score, but not much of an improvement."
   ]
  },
  {
   "cell_type": "code",
   "execution_count": 51,
   "metadata": {},
   "outputs": [
    {
     "data": {
      "text/plain": [
       "<sklearn.metrics._plot.confusion_matrix.ConfusionMatrixDisplay at 0x7fee68cdff50>"
      ]
     },
     "execution_count": 51,
     "metadata": {},
     "output_type": "execute_result"
    },
    {
     "data": {
      "image/png": "[encoded data removed]",
      "text/plain": [
       "<Figure size 720x720 with 2 Axes>"
      ]
     },
     "metadata": {
      "needs_background": "light"
     },
     "output_type": "display_data"
    }
   ],
   "source": [
    "cm = confusion_matrix(y_testtl,y_predsxgbsmtl_grid)\n",
    "classes = ['Not Food Desert', 'Food Desert']\n",
    "fig, ax = plt.subplots(figsize=(10, 10))\n",
    "\n",
    "plt.rcParams.update({'font.size': 20})\n",
    "\n",
    "plot_confusion_matrix(xgb_gridsmtl, X_testtl, y_testtl, cmap=plt.cm.Blues, display_labels = classes, ax=ax)\n"
   ]
  },
  {
   "cell_type": "code",
   "execution_count": 52,
   "metadata": {},
   "outputs": [
    {
     "name": "stdout",
     "output_type": "stream",
     "text": [
      "Resampled dataset shape Counter({1: 16867, 0: 9951})\n"
     ]
    }
   ],
   "source": [
    "smen = SMOTEENN()\n",
    "X_ressmen, y_ressmen = smen.fit_resample(X_traintl, y_traintl)\n",
    "print('Resampled dataset shape %s' % Counter(y_ressmen))"
   ]
  },
  {
   "cell_type": "markdown",
   "metadata": {},
   "source": [
    "## SMOTEENN uses SMOTE to oversample the minority class and then uses a KNN of 3 to downsample the majority class"
   ]
  },
  {
   "cell_type": "code",
   "execution_count": 53,
   "metadata": {},
   "outputs": [],
   "source": [
    "paramssmen={'min_child_weight': [9],\n",
    "        'n_estimators': [500],\n",
    "        'learning_rate':[.01],\n",
    "        'max_depth':[16],\n",
    "        'gamma': [1],\n",
    "        'subsample': [0.8],\n",
    "        'colsample_bytree': [0.8],\n",
    "        'max_delta_step':[3],\n",
    "        'booster':['gbtree']}"
   ]
  },
  {
   "cell_type": "code",
   "execution_count": 54,
   "metadata": {},
   "outputs": [
    {
     "name": "stdout",
     "output_type": "stream",
     "text": [
      "Fitting 3 folds for each of 1 candidates, totalling 3 fits\n"
     ]
    },
    {
     "name": "stderr",
     "output_type": "stream",
     "text": [
      "[Parallel(n_jobs=-3)]: Using backend LokyBackend with 10 concurrent workers.\n",
      "[Parallel(n_jobs=-3)]: Done   3 out of   3 | elapsed:  1.5min finished\n"
     ]
    },
    {
     "data": {
      "text/plain": [
       "GridSearchCV(cv=3,\n",
       "             estimator=XGBClassifier(class_weight='balanced', random_state=1),\n",
       "             n_jobs=-3,\n",
       "             param_grid={'booster': ['gbtree'], 'colsample_bytree': [0.8],\n",
       "                         'gamma': [1], 'learning_rate': [0.01],\n",
       "                         'max_delta_step': [3], 'max_depth': [16],\n",
       "                         'min_child_weight': [9], 'n_estimators': [500],\n",
       "                         'subsample': [0.8]},\n",
       "             scoring='f1', verbose=1)"
      ]
     },
     "execution_count": 54,
     "metadata": {},
     "output_type": "execute_result"
    }
   ],
   "source": [
    "xgb_gridsmen=GridSearchCV(xgb_clf,paramssmen,scoring ='f1', cv=3,verbose=1,n_jobs=-3)\n",
    "##Fitting\n",
    "xgb_gridsmen.fit(X_ressmen,y_ressmen)"
   ]
  },
  {
   "cell_type": "code",
   "execution_count": 55,
   "metadata": {},
   "outputs": [
    {
     "data": {
      "text/plain": [
       "XGBClassifier(class_weight='balanced', colsample_bytree=0.8, gamma=1,\n",
       "              learning_rate=0.01, max_delta_step=3, max_depth=16,\n",
       "              min_child_weight=9, n_estimators=500, random_state=1,\n",
       "              subsample=0.8)"
      ]
     },
     "execution_count": 55,
     "metadata": {},
     "output_type": "execute_result"
    }
   ],
   "source": [
    "xgb_gridsmen.best_estimator_"
   ]
  },
  {
   "cell_type": "code",
   "execution_count": 56,
   "metadata": {},
   "outputs": [
    {
     "data": {
      "text/plain": [
       "0.9008520133376537"
      ]
     },
     "execution_count": 56,
     "metadata": {},
     "output_type": "execute_result"
    }
   ],
   "source": [
    "xgb_gridsmen.best_score_"
   ]
  },
  {
   "cell_type": "code",
   "execution_count": 57,
   "metadata": {},
   "outputs": [],
   "source": [
    "y_predsxgbsmen_grid=xgb_gridsmen.best_estimator_.predict(X_testtl)"
   ]
  },
  {
   "cell_type": "code",
   "execution_count": 58,
   "metadata": {},
   "outputs": [
    {
     "data": {
      "text/plain": [
       "0.6732135136804397"
      ]
     },
     "execution_count": 58,
     "metadata": {},
     "output_type": "execute_result"
    }
   ],
   "source": [
    "f1_score(y_testtl,y_predsxgbsmen_grid)"
   ]
  },
  {
   "cell_type": "code",
   "execution_count": 59,
   "metadata": {},
   "outputs": [
    {
     "data": {
      "text/plain": [
       "0.7936507936507936"
      ]
     },
     "execution_count": 59,
     "metadata": {},
     "output_type": "execute_result"
    }
   ],
   "source": [
    "recall_score(y_testtl,y_predsxgbsmen_grid)"
   ]
  },
  {
   "cell_type": "code",
   "execution_count": 60,
   "metadata": {},
   "outputs": [
    {
     "data": {
      "text/plain": [
       "<sklearn.metrics._plot.confusion_matrix.ConfusionMatrixDisplay at 0x7fee68d1e190>"
      ]
     },
     "execution_count": 60,
     "metadata": {},
     "output_type": "execute_result"
    },
    {
     "data": {
      "image/png": "[encoded data removed]",
      "text/plain": [
       "<Figure size 720x720 with 2 Axes>"
      ]
     },
     "metadata": {
      "needs_background": "light"
     },
     "output_type": "display_data"
    }
   ],
   "source": [
    "cm = confusion_matrix(y_testtl,y_predsxgbsmen_grid)\n",
    "classes = ['Not Food Desert', 'Food Desert']\n",
    "fig, ax = plt.subplots(figsize=(10, 10))\n",
    "\n",
    "plt.rcParams.update({'font.size': 20})\n",
    "\n",
    "plot_confusion_matrix(xgb_gridsmen, X_testtl, y_testtl, cmap=plt.cm.Blues, display_labels = classes, ax=ax)\n"
   ]
  },
  {
   "cell_type": "code",
   "execution_count": 63,
   "metadata": {},
   "outputs": [],
   "source": [
    "fig.savefig('XGB_SMOTEENN_CM.png')"
   ]
  },
  {
   "cell_type": "code",
   "execution_count": 64,
   "metadata": {},
   "outputs": [],
   "source": [
    "from xgboost import plot_importance"
   ]
  },
  {
   "cell_type": "code",
   "execution_count": 94,
   "metadata": {},
   "outputs": [],
   "source": [
    "plt.rcParams[\"figure.figsize\"] = (10, 7)"
   ]
  },
  {
   "cell_type": "code",
   "execution_count": 95,
   "metadata": {
    "scrolled": false
   },
   "outputs": [
    {
     "data": {
      "image/png": "[encoded data removed]",
      "text/plain": [
       "<Figure size 720x504 with 1 Axes>"
      ]
     },
     "metadata": {
      "needs_background": "light"
     },
     "output_type": "display_data"
    }
   ],
   "source": [
    "\n",
    "ax = plot_importance(xgb_gridsmen.best_estimator_, max_num_features=8)"
   ]
  },
  {
   "cell_type": "markdown",
   "metadata": {},
   "source": [
    "## From this graph we can see that the most important feature of the model was having vehicle access. We must improve vehicle access and public transportation in an effort to reduce the amount of food deserts in the United States"
   ]
  },
  {
   "cell_type": "markdown",
   "metadata": {},
   "source": [
    "## In addition, the number of people in a census tract under the age of 18 was very important in our model. This suggest that companies may have a bias towards not building supermarkets in areas with a high amount of children as these may be seen as less profitable locations. "
   ]
  }
 ],
 "metadata": {
  "kernelspec": {
   "display_name": "Python 3",
   "language": "python",
   "name": "python3"
  },
  "language_info": {
   "codemirror_mode": {
    "name": "ipython",
    "version": 3
   },
   "file_extension": ".py",
   "mimetype": "text/x-python",
   "name": "python",
   "nbconvert_exporter": "python",
   "pygments_lexer": "ipython3",
   "version": "3.7.6"
  }
 },
 "nbformat": 4,
 "nbformat_minor": 4
}
